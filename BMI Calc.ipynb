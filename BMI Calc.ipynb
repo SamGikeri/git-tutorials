{
 "cells": [
  {
   "cell_type": "markdown",
   "id": "103449eb",
   "metadata": {},
   "source": [
    "# BMI Calculator\n"
   ]
  },
  {
   "cell_type": "code",
   "execution_count": 2,
   "id": "ccd1e49e",
   "metadata": {},
   "outputs": [
    {
     "name": "stdout",
     "output_type": "stream",
     "text": [
      "What is your name: sa.\n",
      "Hello sa.. Welcome to our BMI calculation system\n"
     ]
    }
   ],
   "source": [
    "name = input(\"What is your name: \")\n",
    "print(f\"Hello {name}. Welcome to our BMI calculation system\")\n"
   ]
  },
  {
   "cell_type": "code",
   "execution_count": 5,
   "id": "0d0ea1ba",
   "metadata": {},
   "outputs": [
    {
     "name": "stdout",
     "output_type": "stream",
     "text": [
      "Provide us with the info below: \n",
      "Enter your weight: Kgs 88\n",
      "Enter your height: metres1.9\n",
      "===BMI results====\n",
      "Your BMI is: 24.38\n",
      "Normal\n"
     ]
    }
   ],
   "source": [
    "print(\"Provide us with the info below: \")\n",
    "weight = float(input(\"Enter your weight: Kgs \"))\n",
    "height = float(input(\"Enter your height: metres \"))\n",
    "\n",
    "BMI = round(weight/(height * height), 2)\n",
    "\n",
    "print(\"===BMI results====\")\n",
    "print(f\"Your BMI is: {BMI}\")\n",
    "\n",
    "if BMI > 25:\n",
    "    print(\"Overweight\")\n",
    "elif BMI < 18:\n",
    "    print(\"Underweight\")\n",
    "else:\n",
    "    print(\"Normal\")\n"
   ]
  },
  {
   "cell_type": "code",
   "execution_count": null,
   "id": "94b26a48",
   "metadata": {},
   "outputs": [],
   "source": []
  }
 ],
 "metadata": {
  "kernelspec": {
   "display_name": "Python 3 (ipykernel)",
   "language": "python",
   "name": "python3"
  },
  "language_info": {
   "codemirror_mode": {
    "name": "ipython",
    "version": 3
   },
   "file_extension": ".py",
   "mimetype": "text/x-python",
   "name": "python",
   "nbconvert_exporter": "python",
   "pygments_lexer": "ipython3",
   "version": "3.11.7"
  },
  "toc": {
   "base_numbering": 1,
   "nav_menu": {},
   "number_sections": true,
   "sideBar": true,
   "skip_h1_title": false,
   "title_cell": "Table of Contents",
   "title_sidebar": "Contents",
   "toc_cell": false,
   "toc_position": {},
   "toc_section_display": true,
   "toc_window_display": false
  }
 },
 "nbformat": 4,
 "nbformat_minor": 5
}
